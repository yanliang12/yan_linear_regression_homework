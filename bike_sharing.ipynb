{
 "cells": [
  {
   "cell_type": "markdown",
   "metadata": {},
   "source": [
    "Yan Liang's homework"
   ]
  },
  {
   "cell_type": "markdown",
   "metadata": {},
   "source": [
    "import the packages"
   ]
  },
  {
   "cell_type": "code",
   "execution_count": 1,
   "metadata": {},
   "outputs": [],
   "source": [
    "import pandas as pd\n",
    "import numpy as np\n",
    "import matplotlib.pyplot as plt\n",
    "from sklearn import *\n",
    "from sklearn.metrics import *\n",
    "from sklearn.model_selection import *"
   ]
  },
  {
   "cell_type": "markdown",
   "metadata": {},
   "source": [
    "load the data"
   ]
  },
  {
   "cell_type": "code",
   "execution_count": 11,
   "metadata": {},
   "outputs": [
    {
     "name": "stdout",
     "output_type": "stream",
     "text": [
      "          instant      season          yr        mnth     holiday     weekday  \\\n",
      "count  730.000000  730.000000  730.000000  730.000000  730.000000  730.000000   \n",
      "mean   365.500000    2.498630    0.500000    6.526027    0.028767    2.995890   \n",
      "std    210.877136    1.110184    0.500343    3.450215    0.167266    2.000339   \n",
      "min      1.000000    1.000000    0.000000    1.000000    0.000000    0.000000   \n",
      "25%    183.250000    2.000000    0.000000    4.000000    0.000000    1.000000   \n",
      "50%    365.500000    3.000000    0.500000    7.000000    0.000000    3.000000   \n",
      "75%    547.750000    3.000000    1.000000   10.000000    0.000000    5.000000   \n",
      "max    730.000000    4.000000    1.000000   12.000000    1.000000    6.000000   \n",
      "\n",
      "       workingday  weathersit        temp       atemp         hum   windspeed  \\\n",
      "count  730.000000  730.000000  730.000000  730.000000  730.000000  730.000000   \n",
      "mean     0.690411    1.394521   20.319259   23.726322   62.765175   12.763620   \n",
      "std      0.462641    0.544807    7.506729    8.150308   14.237589    5.195841   \n",
      "min      0.000000    1.000000    2.424346    3.953480    0.000000    1.500244   \n",
      "25%      0.000000    1.000000   13.811885   16.889713   52.000000    9.041650   \n",
      "50%      1.000000    1.000000   20.465826   24.368225   62.625000   12.125325   \n",
      "75%      1.000000    2.000000   26.880615   30.445775   72.989575   15.625589   \n",
      "max      1.000000    3.000000   35.328347   42.044800   97.250000   34.000021   \n",
      "\n",
      "            casual   registered          cnt  \n",
      "count   730.000000   730.000000   730.000000  \n",
      "mean    849.249315  3658.757534  4508.006849  \n",
      "std     686.479875  1559.758728  1936.011647  \n",
      "min       2.000000    20.000000    22.000000  \n",
      "25%     316.250000  2502.250000  3169.750000  \n",
      "50%     717.000000  3664.500000  4548.500000  \n",
      "75%    1096.500000  4783.250000  5966.000000  \n",
      "max    3410.000000  6946.000000  8714.000000  \n",
      "   instant      dteday  season  yr  mnth  holiday  weekday  workingday  \\\n",
      "0        1  01-01-2018       1   0     1        0        1           1   \n",
      "1        2  02-01-2018       1   0     1        0        2           1   \n",
      "2        3  03-01-2018       1   0     1        0        3           1   \n",
      "3        4  04-01-2018       1   0     1        0        4           1   \n",
      "4        5  05-01-2018       1   0     1        0        5           1   \n",
      "\n",
      "   weathersit       temp     atemp      hum  windspeed  casual  registered  \\\n",
      "0           2  14.110847  18.18125  80.5833  10.749882     331         654   \n",
      "1           2  14.902598  17.68695  69.6087  16.652113     131         670   \n",
      "2           1   8.050924   9.47025  43.7273  16.636703     120        1229   \n",
      "3           1   8.200000  10.60610  59.0435  10.739832     108        1454   \n",
      "4           1   9.305237  11.46350  43.6957  12.522300      82        1518   \n",
      "\n",
      "    cnt  \n",
      "0   985  \n",
      "1   801  \n",
      "2  1349  \n",
      "3  1562  \n",
      "4  1600  \n"
     ]
    }
   ],
   "source": [
    "df = pd.read_csv ('day.csv')\n",
    "\n",
    "print(df.describe())\n",
    "print (df.head(5))"
   ]
  },
  {
   "cell_type": "markdown",
   "metadata": {},
   "source": [
    "conver the categorial varialbes to vectors"
   ]
  },
  {
   "cell_type": "code",
   "execution_count": 3,
   "metadata": {
    "scrolled": true
   },
   "outputs": [
    {
     "name": "stdout",
     "output_type": "stream",
     "text": [
      "(730, 32)\n"
     ]
    }
   ],
   "source": [
    "from sklearn.preprocessing import OneHotEncoder\n",
    "\n",
    "def categorial_varable_to_vector_list(column_name):\n",
    "    seasons = [[x] for x in df[column_name].unique()]\n",
    "    enc = OneHotEncoder(handle_unknown='ignore')\n",
    "    enc.fit(seasons)\n",
    "    seasons_variable = [list(x) for x in list(enc.transform([[x] for x in df['season'].tolist()]).toarray())]\n",
    "    return seasons_variable\n",
    "\n",
    "\n",
    "categoarial_columns = ['season','yr', 'mnth', 'holiday', 'weekday', 'workingday', 'weathersit']\n",
    "\n",
    "\n",
    "x_all = []\n",
    "\n",
    "for c in categoarial_columns:\n",
    "    x = categorial_varable_to_vector_list(c)\n",
    "    x = np.array(x).T\n",
    "    x_all.append(x)\n",
    "\n",
    "x_all = tuple(x_all)\n",
    "x_categorail = np.concatenate(x_all).T\n",
    "\n",
    "print(x_categorail.shape)"
   ]
  },
  {
   "cell_type": "markdown",
   "metadata": {},
   "source": [
    "convert the rest columns to vector"
   ]
  },
  {
   "cell_type": "code",
   "execution_count": 4,
   "metadata": {},
   "outputs": [
    {
     "name": "stdout",
     "output_type": "stream",
     "text": [
      "(730, 4)\n"
     ]
    }
   ],
   "source": [
    "numemrical_columns = ['temp', 'atemp', 'hum', 'windspeed'] #, 'casual', 'registered'\n",
    "\n",
    "x = [df[n].tolist() for n in numemrical_columns]\n",
    "\n",
    "x_numerical = np.array(x).T\n",
    "\n",
    "print(x_numerical.shape)"
   ]
  },
  {
   "cell_type": "markdown",
   "metadata": {},
   "source": [
    "combine the numberical and categorial varaibles"
   ]
  },
  {
   "cell_type": "code",
   "execution_count": 5,
   "metadata": {},
   "outputs": [
    {
     "name": "stdout",
     "output_type": "stream",
     "text": [
      "[[ 1.        0.        0.       ... 18.18125  80.5833   10.749882]\n",
      " [ 1.        0.        0.       ... 17.68695  69.6087   16.652113]\n",
      " [ 1.        0.        0.       ...  9.47025  43.7273   16.636703]\n",
      " ...\n",
      " [ 1.        0.        0.       ... 12.12     75.2917    8.333661]\n",
      " [ 1.        0.        0.       ... 11.585    48.3333   23.500518]\n",
      " [ 1.        0.        0.       ... 11.17435  57.75     10.374682]]\n",
      "(730, 36)\n"
     ]
    }
   ],
   "source": [
    "x = np.concatenate((x_categorail, x_numerical), axis=1)\n",
    "\n",
    "print(x)\n",
    "\n",
    "print(x.shape)"
   ]
  },
  {
   "cell_type": "markdown",
   "metadata": {},
   "source": [
    "prepare the output list"
   ]
  },
  {
   "cell_type": "code",
   "execution_count": 6,
   "metadata": {},
   "outputs": [
    {
     "name": "stdout",
     "output_type": "stream",
     "text": [
      "(730,)\n"
     ]
    }
   ],
   "source": [
    "y = np.array(df['cnt'].tolist())\n",
    "\n",
    "print(y.shape)"
   ]
  },
  {
   "cell_type": "markdown",
   "metadata": {},
   "source": [
    "split the training and test set"
   ]
  },
  {
   "cell_type": "code",
   "execution_count": 7,
   "metadata": {},
   "outputs": [
    {
     "name": "stdout",
     "output_type": "stream",
     "text": [
      "(657, 36) (657,)\n",
      "(73, 36) (73,)\n"
     ]
    }
   ],
   "source": [
    "x_train, x_test, y_train, y_test = train_test_split(x, y, test_size = 0.1, random_state=42)\n",
    "\n",
    "print(x_train.shape, y_train.shape)\n",
    "\n",
    "print(x_test.shape, y_test.shape)"
   ]
  },
  {
   "cell_type": "markdown",
   "metadata": {},
   "source": [
    "train the model"
   ]
  },
  {
   "cell_type": "code",
   "execution_count": 8,
   "metadata": {
    "scrolled": true
   },
   "outputs": [
    {
     "name": "stdout",
     "output_type": "stream",
     "text": [
      "Coefficients: \n",
      " [-4.50756382e+15  2.50853878e+15  2.11447898e+15  2.53740436e+15\n",
      "  4.78409136e+13  2.08242100e+15  1.98143426e+15  1.66270434e+15\n",
      "  1.79405761e+15  2.47962372e+15  0.00000000e+00  0.00000000e+00\n",
      "  0.00000000e+00  0.00000000e+00  0.00000000e+00  0.00000000e+00\n",
      "  0.00000000e+00  0.00000000e+00  0.00000000e+00  1.98509009e+15\n",
      "  0.00000000e+00  1.98509009e+15  1.66270434e+15  1.79405761e+15\n",
      "  2.47962372e+15  0.00000000e+00  0.00000000e+00  0.00000000e+00\n",
      "  1.98509009e+15  1.98509009e+15  1.66270434e+15  1.79405761e+15\n",
      " -7.97500000e+01  2.20250000e+02 -3.73750000e+01 -5.43437500e+01]\n"
     ]
    }
   ],
   "source": [
    "# Create linear regression object\n",
    "regr = linear_model.LinearRegression()\n",
    "\n",
    "# Train the model using the training sets\n",
    "regr.fit(x_train, y_train)\n",
    "\n",
    "print('Coefficients: \\n', regr.coef_)"
   ]
  },
  {
   "cell_type": "markdown",
   "metadata": {},
   "source": [
    "test the model"
   ]
  },
  {
   "cell_type": "code",
   "execution_count": 12,
   "metadata": {},
   "outputs": [
    {
     "name": "stdout",
     "output_type": "stream",
     "text": [
      "Mean squared error: 2163455.29\n",
      "Coefficient of determination: 0.31\n"
     ]
    }
   ],
   "source": [
    "y_test_predict = regr.predict(x_test)\n",
    "\n",
    "print('Mean squared error: %.2f'% mean_squared_error(y_test, y_test_predict))\n",
    "\n",
    "print('Coefficient of determination: %.2f'% r2_score(y_test, y_test_predict))"
   ]
  }
 ],
 "metadata": {
  "kernelspec": {
   "display_name": "Python 3",
   "language": "python",
   "name": "python3"
  },
  "language_info": {
   "codemirror_mode": {
    "name": "ipython",
    "version": 3
   },
   "file_extension": ".py",
   "mimetype": "text/x-python",
   "name": "python",
   "nbconvert_exporter": "python",
   "pygments_lexer": "ipython3",
   "version": "3.8.2"
  }
 },
 "nbformat": 4,
 "nbformat_minor": 4
}
